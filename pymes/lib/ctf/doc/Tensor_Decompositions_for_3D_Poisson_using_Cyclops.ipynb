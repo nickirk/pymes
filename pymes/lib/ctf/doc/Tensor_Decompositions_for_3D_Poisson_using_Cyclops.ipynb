{
 "cells": [
  {
   "cell_type": "code",
   "execution_count": 26,
   "metadata": {
    "collapsed": true
   },
   "outputs": [],
   "source": [
    "import ctf\n",
    "glob_comm = ctf.comm()"
   ]
  },
  {
   "cell_type": "markdown",
   "metadata": {},
   "source": [
    "Construct 1D Poisson stiffness matrix $A$."
   ]
  },
  {
   "cell_type": "code",
   "execution_count": 27,
   "metadata": {},
   "outputs": [
    {
     "data": {
      "text/plain": [
       "array([[-2.,  1.,  0.],\n",
       "       [ 1., -2.,  1.],\n",
       "       [ 0.,  1., -2.]])"
      ]
     },
     "execution_count": 27,
     "metadata": {},
     "output_type": "execute_result"
    }
   ],
   "source": [
    "n = 3\n",
    "A = (-2.)*ctf.eye(n,n,sp=True) + ctf.eye(n,n,1,sp=True) + ctf.eye(n,n,-1,sp=True)\n",
    "A"
   ]
  },
  {
   "cell_type": "markdown",
   "metadata": {},
   "source": [
    "Construct 3D Poisson stiffness matrix $T = A \\otimes I \\otimes I + I \\otimes A \\otimes I + I \\otimes I \\otimes A$ as an order 6 tensor."
   ]
  },
  {
   "cell_type": "code",
   "execution_count": 28,
   "metadata": {
    "collapsed": true
   },
   "outputs": [],
   "source": [
    "I = ctf.eye(n,n,sp=True) # sparse identity matrix\n",
    "T = ctf.tensor((n,n,n,n,n,n),sp=True) # sparse tensor\n",
    "T.i(\"aixbjy\") << A.i(\"ab\")*I.i(\"ij\")*I.i(\"xy\") + I.i(\"ab\")*A.i(\"ij\")*I.i(\"xy\") + I.i(\"ab\")*I.i(\"ij\")*A.i(\"xy\")"
   ]
  },
  {
   "cell_type": "markdown",
   "metadata": {},
   "source": [
    "The 3D Poisson stiffness matrix is full rank."
   ]
  },
  {
   "cell_type": "code",
   "execution_count": 29,
   "metadata": {},
   "outputs": [
    {
     "data": {
      "text/plain": [
       "array([10.24264069,  8.82842712,  8.82842712,  8.82842712,  7.41421356,\n",
       "        7.41421356,  7.41421356,  7.41421356,  7.41421356,  7.41421356,\n",
       "        6.        ,  6.        ,  6.        ,  6.        ,  6.        ,\n",
       "        6.        ,  6.        ,  4.58578644,  4.58578644,  4.58578644,\n",
       "        4.58578644,  4.58578644,  4.58578644,  3.17157288,  3.17157288,\n",
       "        3.17157288,  1.75735931])"
      ]
     },
     "execution_count": 29,
     "metadata": {},
     "output_type": "execute_result"
    }
   ],
   "source": [
    "[U,S,V] = ctf.svd(T.reshape((n*n*n,n*n*n)))\n",
    "S"
   ]
  },
  {
   "cell_type": "markdown",
   "metadata": {},
   "source": [
    "However, if we transpose the tensor modes, the Kronecker product gives a rank-2 form."
   ]
  },
  {
   "cell_type": "code",
   "execution_count": 30,
   "metadata": {},
   "outputs": [
    {
     "name": "stdout",
     "output_type": "stream",
     "text": [
      "6.717730079336022e-14\n"
     ]
    }
   ],
   "source": [
    "T2 = ctf.tensor((n,n,n,n,n,n),sp=True)\n",
    "T2.i(\"abijxy\") << T.i(\"aixbjy\") # transpose tensor\n",
    "[U,S,V] = ctf.svd(T2.reshape((n*n, n*n*n*n)),2) # compute rank-2 SVD on unfolded tensor\n",
    "print(ctf.vecnorm(T2.reshape((n*n, n*n*n*n))-U@ctf.diag(S,sp=True)@V)) # compute norm of error"
   ]
  },
  {
   "cell_type": "markdown",
   "metadata": {},
   "source": [
    "In fact, there are two low-rank matrix unfoldings."
   ]
  },
  {
   "cell_type": "code",
   "execution_count": 31,
   "metadata": {},
   "outputs": [
    {
     "name": "stdout",
     "output_type": "stream",
     "text": [
      "7.860569145580134e-14\n"
     ]
    }
   ],
   "source": [
    "[U,S,V] = ctf.svd(T2.reshape((n*n*n*n, n*n)),2) # compute rank-2 SVD on unfolded tensor\n",
    "print(ctf.vecnorm(T2.reshape((n*n*n*n, n*n))-U@ctf.diag(S,sp=True)@V)) # compute norm of error"
   ]
  },
  {
   "cell_type": "markdown",
   "metadata": {},
   "source": [
    "We can construct a tensor train factorization to exploit both unfoldings. The tensor train ranks are $2\\times 2$."
   ]
  },
  {
   "cell_type": "code",
   "execution_count": 32,
   "metadata": {
    "collapsed": true
   },
   "outputs": [],
   "source": [
    "[U1,S1,V1] = ctf.svd(T2.reshape((n*n, n*n*n*n)),2) # compute rank-2 SVD on unfolded tensor\n",
    "[U2,S2,V2] = ctf.svd((ctf.diag(S1,sp=True) @ V1).reshape((2*n*n, n*n)),2)\n",
    "V2 = ctf.diag(S2,sp=True) @ V2\n",
    "W1 = U1.reshape((n,n,2))\n",
    "W2 = U2.reshape((2,n,n,2))\n",
    "W3 = V2.reshape((2,n,n))"
   ]
  },
  {
   "cell_type": "markdown",
   "metadata": {},
   "source": [
    "The tensor train factorization requires $O(n^2)$ storage for this tensor, which is $n\\times n\\times n\\times n\\times n\\times n$ and has $O(n^3)$ nonzeros."
   ]
  },
  {
   "cell_type": "code",
   "execution_count": 33,
   "metadata": {},
   "outputs": [
    {
     "data": {
      "text/plain": [
       "4.549873484854002e-14"
      ]
     },
     "execution_count": 33,
     "metadata": {},
     "output_type": "execute_result"
    }
   ],
   "source": [
    "E = ctf.tensor((n,n,n,n,n,n))\n",
    "E.i(\"aixbjy\") << T.i(\"aixbjy\") - W1.i(\"abu\")*W2.i(\"uijv\")*W3.i(\"vxy\")\n",
    "ctf.vecnorm(E)"
   ]
  },
  {
   "cell_type": "markdown",
   "metadata": {},
   "source": [
    "The CP decomposition of this tensor should be rank 2 and provides further compression."
   ]
  },
  {
   "cell_type": "code",
   "execution_count": 34,
   "metadata": {},
   "outputs": [
    {
     "name": "stdout",
     "output_type": "stream",
     "text": [
      "32.92675598008914\n",
      "1.1438230719805407\n",
      "1.1324005982389682\n",
      "1.1175385983710975\n",
      "1.0820036880901653\n",
      "0.7156036446950024\n",
      "0.05208439321884081\n",
      "0.051909726375298185\n",
      "0.05173692237121425\n",
      "0.05156589242554202\n"
     ]
    }
   ],
   "source": [
    "from ctf import random\n",
    "ctf.random.seed(42)\n",
    "Z1 = ctf.random.random((n,n,2))\n",
    "Z2 = ctf.random.random((n,n,2))\n",
    "Z3 = ctf.random.random((n,n,2))\n",
    "lmbda = ctf.random.random((2))\n",
    "\n",
    "niter = 0\n",
    "\n",
    "def normalize(Z):\n",
    "    norms = ctf.tensor(2)\n",
    "    norms.i(\"u\") << Z.i(\"pqu\")*Z.i(\"pqu\")\n",
    "    norms = 1./norms**.5\n",
    "    X = ctf.tensor(copy=Z)\n",
    "    Z.set_zero()\n",
    "    Z.i(\"pqu\") << X.i(\"pqu\")*norms.i(\"u\")\n",
    "    return 1./norms\n",
    "\n",
    "normalize(Z1)\n",
    "normalize(Z2)\n",
    "normalize(Z3)\n",
    "\n",
    "E = ctf.tensor((n,n,n,n,n,n))\n",
    "E.i(\"aixbjy\") << T.i(\"aixbjy\") - lmbda.i(\"u\")*Z1.i(\"abu\")*Z2.i(\"iju\")*Z3.i(\"xyu\")\n",
    "err_norm = ctf.vecnorm(E)\n",
    "\n",
    "while (err_norm > 1.e-6 and niter < 100):\n",
    "    if niter % 10 == 0:\n",
    "        if glob_comm.rank() == 0:\n",
    "            print(err_norm)\n",
    "    M = ctf.tensor((n,n,n,n,2))\n",
    "    M.i(\"ijxyu\") << Z2.i(\"iju\")*Z3.i(\"xyu\")\n",
    "    [U,S,V] = ctf.svd(M.reshape((n*n*n*n,2)),2)\n",
    "    S = 1./S\n",
    "    Z1.set_zero()\n",
    "    Z1.i(\"abu\") << V.i(\"vu\")*S.i(\"v\")*U.reshape((n,n,n,n,2)).i(\"ijxyv\")*T.i(\"aixbjy\")\n",
    "    \n",
    "    normalize(Z1)\n",
    "    \n",
    "    M.set_zero()\n",
    "    M.i(\"abxyu\") << Z1.i(\"abu\")*Z3.i(\"xyu\")\n",
    "    [U,S,V] = ctf.svd(M.reshape((n*n*n*n,2)),2)\n",
    "    S = 1./S\n",
    "    Z2.set_zero()\n",
    "    Z2.i(\"iju\") << V.i(\"vu\")*S.i(\"v\")*U.reshape((n,n,n,n,2)).i(\"abxyv\")*T.i(\"aixbjy\")\n",
    "    \n",
    "    normalize(Z2)\n",
    "    \n",
    "    M.set_zero()\n",
    "    M.i(\"abiju\") << Z1.i(\"abu\")*Z2.i(\"iju\")\n",
    "    [U,S,V] = ctf.svd(M.reshape((n*n*n*n,2)),2)\n",
    "    S = 1./S\n",
    "    Z3.set_zero()\n",
    "    Z3.i(\"xyu\") << V.i(\"vu\")*S.i(\"v\")*U.reshape((n,n,n,n,2)).i(\"abijv\")*T.i(\"aixbjy\")\n",
    "\n",
    "    lmbda = normalize(Z3)\n",
    "    \n",
    "    E.set_zero()\n",
    "    E.i(\"aixbjy\") << T.i(\"aixbjy\") - lmbda.i(\"u\")*Z1.i(\"abu\")*Z2.i(\"iju\")*Z3.i(\"xyu\")\n",
    "    err_norm = ctf.vecnorm(E)\n",
    "    \n",
    "    niter+=1\n",
    "\n",
    "E.i(\"aixbjy\") << T.i(\"aixbjy\") - lmbda.i(\"u\")*Z1.i(\"abu\")*Z2.i(\"iju\")*Z3.i(\"xyu\")"
   ]
  },
  {
   "cell_type": "code",
   "execution_count": null,
   "metadata": {
    "collapsed": true
   },
   "outputs": [],
   "source": []
  },
  {
   "cell_type": "code",
   "execution_count": null,
   "metadata": {
    "collapsed": true
   },
   "outputs": [],
   "source": []
  }
 ],
 "metadata": {
  "kernelspec": {
   "display_name": "Python 3",
   "language": "python",
   "name": "python3"
  },
  "language_info": {
   "codemirror_mode": {
    "name": "ipython",
    "version": 3
   },
   "file_extension": ".py",
   "mimetype": "text/x-python",
   "name": "python",
   "nbconvert_exporter": "python",
   "pygments_lexer": "ipython3",
   "version": "3.5.2"
  }
 },
 "nbformat": 4,
 "nbformat_minor": 2
}
