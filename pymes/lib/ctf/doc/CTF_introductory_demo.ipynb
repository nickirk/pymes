{
 "cells": [
  {
   "cell_type": "markdown",
   "metadata": {},
   "source": [
    "Import numpy library and create a random matrix"
   ]
  },
  {
   "cell_type": "code",
   "execution_count": 1,
   "metadata": {},
   "outputs": [
    {
     "data": {
      "text/plain": [
       "array([[ 0.49922613,  0.07979019,  0.23518855,  0.1647902 ],\n",
       "       [ 0.74323602,  0.04472799,  0.54030603,  0.37305325],\n",
       "       [ 0.40874152,  0.51150855,  0.17782078,  0.6479568 ],\n",
       "       [ 0.57472887,  0.67596946,  0.73410843,  0.97596626]])"
      ]
     },
     "execution_count": 1,
     "metadata": {},
     "output_type": "execute_result"
    }
   ],
   "source": [
    "import numpy as np\n",
    "n = 4\n",
    "A = np.random.random((n,n))\n",
    "A"
   ]
  },
  {
   "cell_type": "markdown",
   "metadata": {},
   "source": [
    "Create another matrix and multiply the two"
   ]
  },
  {
   "cell_type": "code",
   "execution_count": 2,
   "metadata": {},
   "outputs": [
    {
     "data": {
      "text/plain": [
       "array([[ 0.75001965,  0.43859658,  0.73518856,  0.83285544],\n",
       "       [ 1.27756494,  0.72708474,  1.27528118,  1.39893694],\n",
       "       [ 1.16023982,  0.85408688,  1.17364888,  1.42447064],\n",
       "       [ 1.90054979,  1.44349232,  1.91599113,  2.32447089]])"
      ]
     },
     "execution_count": 2,
     "metadata": {},
     "output_type": "execute_result"
    }
   ],
   "source": [
    "B = np.random.random((n,n))\n",
    "np.dot(A,B)"
   ]
  },
  {
   "cell_type": "markdown",
   "metadata": {},
   "source": [
    "Import Cyclops Tensor Framework library and convert numpy matrices to CTF matrices"
   ]
  },
  {
   "cell_type": "code",
   "execution_count": 3,
   "metadata": {},
   "outputs": [
    {
     "data": {
      "text/plain": [
       "array([[ 0.75001965,  0.43859658,  0.73518856,  0.83285544],\n",
       "       [ 1.27756494,  0.72708474,  1.27528118,  1.39893694],\n",
       "       [ 1.16023982,  0.85408688,  1.17364888,  1.42447064],\n",
       "       [ 1.90054979,  1.44349232,  1.91599113,  2.32447089]])"
      ]
     },
     "execution_count": 3,
     "metadata": {},
     "output_type": "execute_result"
    }
   ],
   "source": [
    "import ctf\n",
    "tA = ctf.astensor(A)\n",
    "tB = ctf.astensor(B)\n",
    "ctf.dot(tA,tB)"
   ]
  },
  {
   "cell_type": "markdown",
   "metadata": {},
   "source": [
    "Use CTF index-based notation to perform multiplication"
   ]
  },
  {
   "cell_type": "code",
   "execution_count": 4,
   "metadata": {},
   "outputs": [
    {
     "data": {
      "text/plain": [
       "array([[ 0.75001965,  0.43859658,  0.73518856,  0.83285544],\n",
       "       [ 1.27756494,  0.72708474,  1.27528118,  1.39893694],\n",
       "       [ 1.16023982,  0.85408688,  1.17364888,  1.42447064],\n",
       "       [ 1.90054979,  1.44349232,  1.91599113,  2.32447089]])"
      ]
     },
     "execution_count": 4,
     "metadata": {},
     "output_type": "execute_result"
    }
   ],
   "source": [
    "tC = ctf.zeros((n,n))\n",
    "tC.i(\"ij\") << tA.i(\"ik\")*tB.i(\"kj\")\n",
    "tC"
   ]
  },
  {
   "cell_type": "markdown",
   "metadata": {},
   "source": [
    "The particular character `'i','j','k'` don't matter, we can replace them with `'z','?','+'`"
   ]
  },
  {
   "cell_type": "code",
   "execution_count": 5,
   "metadata": {},
   "outputs": [
    {
     "data": {
      "text/plain": [
       "array([[ 0.75001965,  0.43859658,  0.73518856,  0.83285544],\n",
       "       [ 1.27756494,  0.72708474,  1.27528118,  1.39893694],\n",
       "       [ 1.16023982,  0.85408688,  1.17364888,  1.42447064],\n",
       "       [ 1.90054979,  1.44349232,  1.91599113,  2.32447089]])"
      ]
     },
     "execution_count": 5,
     "metadata": {},
     "output_type": "execute_result"
    }
   ],
   "source": [
    "tC = ctf.zeros((n,n))\n",
    "tC.i(\"z?\") << tA.i(\"z+\")*tB.i(\"+?\")\n",
    "tC"
   ]
  },
  {
   "cell_type": "markdown",
   "metadata": {},
   "source": [
    "`numpy` actually has similar functionality via `einsum`"
   ]
  },
  {
   "cell_type": "code",
   "execution_count": 6,
   "metadata": {},
   "outputs": [
    {
     "data": {
      "text/plain": [
       "array([[ 0.75001965,  0.43859658,  0.73518856,  0.83285544],\n",
       "       [ 1.27756494,  0.72708474,  1.27528118,  1.39893694],\n",
       "       [ 1.16023982,  0.85408688,  1.17364888,  1.42447064],\n",
       "       [ 1.90054979,  1.44349232,  1.91599113,  2.32447089]])"
      ]
     },
     "execution_count": 6,
     "metadata": {},
     "output_type": "execute_result"
    }
   ],
   "source": [
    "np.einsum(\"ik,kj->ij\",A,B)"
   ]
  },
  {
   "cell_type": "code",
   "execution_count": 7,
   "metadata": {},
   "outputs": [
    {
     "data": {
      "text/plain": [
       "array([[ 0.75001965,  0.43859658,  0.73518856,  0.83285544],\n",
       "       [ 1.27756494,  0.72708474,  1.27528118,  1.39893694],\n",
       "       [ 1.16023982,  0.85408688,  1.17364888,  1.42447064],\n",
       "       [ 1.90054979,  1.44349232,  1.91599113,  2.32447089]])"
      ]
     },
     "execution_count": 7,
     "metadata": {},
     "output_type": "execute_result"
    }
   ],
   "source": [
    "ctf.einsum(\"ik,kj->ij\",tA,tB)"
   ]
  },
  {
   "cell_type": "markdown",
   "metadata": {},
   "source": [
    "This notation can be used to contract tensor networks, for instance the tensor train (MPS)"
   ]
  },
  {
   "cell_type": "code",
   "execution_count": 8,
   "metadata": {},
   "outputs": [
    {
     "name": "stdout",
     "output_type": "stream",
     "text": [
      "array([[ 0.07366687,  0.12803461],\n",
      "       [ 0.06423109,  0.02295772],\n",
      "       [ 0.05320817,  0.02112921]])\n"
     ]
    }
   ],
   "source": [
    "k = 2 # rank\n",
    "W = ctf.tensor([k,n,k])\n",
    "V = ctf.tensor([k,n])\n",
    "W.fill_random(-1.0,1.0)\n",
    "V.fill_random(-1.0,1.0)\n",
    "Z = ctf.tensor([n,n,n,n,n,n])\n",
    "Z.i(\"ijklmn\") << V.i(\"ai\")*W.i(\"ajb\")*W.i(\"bkc\")*W.i(\"cld\")*W.i(\"dme\")*V.i(\"en\")\n",
    "print(Z[1:3,0,2,1,0:3,1].reshape((3,2)))\n",
    "\n"
   ]
  },
  {
   "cell_type": "markdown",
   "metadata": {},
   "source": [
    "Using `np.einsum` the contractions look as follows"
   ]
  },
  {
   "cell_type": "code",
   "execution_count": 11,
   "metadata": {},
   "outputs": [
    {
     "name": "stdout",
     "output_type": "stream",
     "text": [
      "[[ 0.07366687  0.12803461]\n",
      " [ 0.06423109  0.02295772]\n",
      " [ 0.05320817  0.02112921]]\n",
      "array([[ 0.07366687,  0.12803461],\n",
      "       [ 0.06423109,  0.02295772],\n",
      "       [ 0.05320817,  0.02112921]])\n"
     ]
    }
   ],
   "source": [
    "V2 = V.to_nparray()\n",
    "W2 = W.to_nparray()\n",
    "Z2 = np.einsum(\"ai,ajb,bkc,cld,dme,en->ijklmn\",V2,W2,W2,W2,W2,V2)\n",
    "print(Z2[1:3,0,2,1,0:3,1].reshape((3,2)))\n",
    "\n",
    "#same possible with CTF\n",
    "Z = ctf.einsum(\"ai,ajb,bkc,cld,dme,en->ijklmn\",V,W,W,W,W,V)\n",
    "print(Z[1:3,0,2,1,0:3,1].reshape((3,2)))"
   ]
  },
  {
   "cell_type": "markdown",
   "metadata": {},
   "source": [
    "To contract together a CP decomposition, we need to use Hadamard products"
   ]
  },
  {
   "cell_type": "code",
   "execution_count": 13,
   "metadata": {},
   "outputs": [
    {
     "name": "stdout",
     "output_type": "stream",
     "text": [
      "array([[-0.06735958,  0.01278285],\n",
      "       [-0.05052931,  0.02043648],\n",
      "       [-0.05052931,  0.04237852]])\n",
      "[[-0.06735958  0.01278285]\n",
      " [-0.05052931  0.02043648]\n",
      " [-0.05052931  0.04237852]]\n"
     ]
    }
   ],
   "source": [
    "U = ctf.tensor([k,n])\n",
    "U.fill_random(-1.0,1.0)\n",
    "\n",
    "Z.set_zero()\n",
    "\n",
    "#note that the `a` index appears in multiple operands\n",
    "Z.i(\"ijklmn\") << U.i(\"ai\")*U.i(\"aj\")*U.i(\"ak\")*U.i(\"al\")*U.i(\"am\")*U.i(\"an\")\n",
    "print(Z[1:3,0,2,1,0:3,1].reshape((3,2)))\n",
    "\n",
    "U2 = U.to_nparray()\n",
    "Z2 = np.einsum(\"ai,aj,ak,al,am,an->ijklmn\",U2,U2,U2,U2,U2,U2)\n",
    "print(Z2[1:3,0,2,1,0:3,1].reshape((3,2)))\n"
   ]
  },
  {
   "cell_type": "markdown",
   "metadata": {},
   "source": [
    "Lets test the preformance of the MPS contractions for a different rank"
   ]
  },
  {
   "cell_type": "code",
   "execution_count": 16,
   "metadata": {},
   "outputs": [
    {
     "name": "stdout",
     "output_type": "stream",
     "text": [
      "ctf   k = 2 took 0.028398990631103516 seconds.\n",
      "numpy k = 2 took 0.012132644653320312 seconds.\n",
      "ctf   k = 4 took 0.17014527320861816 seconds.\n",
      "numpy k = 4 took 0.22895264625549316 seconds.\n",
      "ctf   k = 6 took 0.88639235496521 seconds.\n",
      "numpy k = 6 took 1.2816572189331055 seconds.\n",
      "ctf   k = 8 took 4.034878253936768 seconds.\n",
      "numpy k = 8 took 4.610719680786133 seconds.\n"
     ]
    }
   ],
   "source": [
    "import time\n",
    "for k in np.arange(4)*2+2:\n",
    "    t = time.time()\n",
    "    W = ctf.tensor([k,n,k])\n",
    "    V = ctf.tensor([k,n])\n",
    "    W.fill_random(-1.0,1.0)\n",
    "    V.fill_random(-1.0,1.0)\n",
    "    Z = ctf.tensor([n,n,n,n,n,n])\n",
    "    Z.i(\"ijklmn\") << V.i(\"ai\")*W.i(\"ajb\")*W.i(\"bkc\")*W.i(\"cld\")*W.i(\"dme\")*V.i(\"en\")\n",
    "    V2 = V.to_nparray()\n",
    "    W2 = W.to_nparray()\n",
    "    #time CTF, including all initialization and conversions\n",
    "    print(\"ctf   k =\",k,\"took\",time.time()-t,\"seconds.\")\n",
    "    t2 = time.time()\n",
    "    Z2 = np.einsum(\"ai,ajb,bkc,cld,dme,en->ijklmn\",V2,W2,W2,W2,W2,V2)\n",
    "    print(\"numpy k =\",k,\"took\",time.time()-t2,\"seconds.\")"
   ]
  },
  {
   "cell_type": "markdown",
   "metadata": {},
   "source": [
    "Lets create a sparse tensor of total size $4^{12}$"
   ]
  },
  {
   "cell_type": "code",
   "execution_count": 17,
   "metadata": {},
   "outputs": [
    {
     "data": {
      "text/plain": [
       "(array([   22719,    93826,   119244,   267725,   487669,   660105,\n",
       "          695677,   874440,   901502,   950291,  1007954,  1066395,\n",
       "         1129878,  1143853,  1151885,  1220807,  1719826,  1763154,\n",
       "         1789555,  1867359,  1973550,  2109998,  2130630,  2386222,\n",
       "         2578764,  2696878,  2741576,  2843608,  3136093,  3228922,\n",
       "         3596926,  3702374,  3710983,  3786229,  4054600,  4095468,\n",
       "         4347769,  4359880,  4450764,  4461709,  4707221,  4863154,\n",
       "         4870663,  4877028,  5190057,  5348657,  5416971,  5641826,\n",
       "         5852037,  5919829,  5969084,  6000715,  6221829,  6442957,\n",
       "         6605931,  6648639,  6760104,  6791844,  6920001,  7004972,\n",
       "         7012191,  7088057,  7196409,  7229832,  7344236,  7432969,\n",
       "         7564478,  7588891,  7738676,  7760252,  7999727,  8086936,\n",
       "         8183463,  8208168,  8213808,  8220184,  8247167,  8387430,\n",
       "         8420390,  8512627,  8705658,  8752247,  8873669,  8882706,\n",
       "         8910018,  8989521,  9222430,  9287663,  9358465,  9524597,\n",
       "         9659059,  9784230,  9845343,  9852590, 10012972, 10135988,\n",
       "        10185155, 10388874, 10390673, 10414781, 10656508, 10835353,\n",
       "        10887611, 10919483, 11084657, 11166668, 11198566, 11469205,\n",
       "        11677888, 11809105, 11915094, 12156202, 12182735, 12316791,\n",
       "        12369070, 12398402, 12582018, 12613426, 12617735, 12646964,\n",
       "        12717177, 12829999, 12918714, 12984461, 13078439, 13083780,\n",
       "        13118705, 13168316, 13223392, 13315052, 13380976, 13385728,\n",
       "        13411032, 13533053, 13542486, 13699515, 13761475, 13768326,\n",
       "        13925901, 13945787, 14092825, 14384865, 14387447, 14440351,\n",
       "        14596777, 15240705, 15346351, 15439621, 15485513, 15499413,\n",
       "        15524847, 15575624, 15644233, 15647797, 15698120, 15834954,\n",
       "        15851639, 15920878, 15963911, 16337559, 16383041, 16402975,\n",
       "        16430688, 16459050, 16485735, 16519772, 16670754, 16773130]),\n",
       " array([  2.41706157e-01,   2.85507392e-01,   9.45811642e-01,\n",
       "         -6.29857654e-02,  -6.92117908e-01,  -3.61112264e-01,\n",
       "         -2.45027253e-01,  -3.35055194e-02,   2.45278750e-01,\n",
       "          4.37365737e-01,   4.71210465e-01,  -8.12253899e-01,\n",
       "          1.99272988e-01,  -8.69470655e-01,   5.04959966e-01,\n",
       "         -6.24239758e-01,  -1.18672754e-01,  -8.99437754e-01,\n",
       "         -8.15395844e-01,   6.11418405e-03,   3.35063494e-01,\n",
       "         -3.56088426e-01,  -4.41384487e-01,   7.40688938e-01,\n",
       "          1.16661058e-01,   7.71723092e-01,  -2.08927677e-01,\n",
       "          7.26091140e-01,   5.75076775e-01,  -2.09235954e-01,\n",
       "         -5.28038780e-01,   7.65463486e-01,  -3.16505701e-01,\n",
       "          7.36242614e-01,  -1.41295006e-01,  -6.45607734e-01,\n",
       "         -4.85414158e-01,  -6.58832872e-01,   1.80866040e-01,\n",
       "         -2.12375720e-01,  -8.12315466e-01,  -6.61687871e-01,\n",
       "         -7.91374524e-02,  -1.90880098e-01,   1.07838061e-02,\n",
       "          4.56079279e-01,  -6.95154160e-01,   5.51827027e-02,\n",
       "          7.85025635e-02,  -6.41215730e-01,   1.80977893e-01,\n",
       "         -3.03505976e-01,  -9.98693567e-01,   1.72304698e-01,\n",
       "         -6.00374651e-01,   8.78012388e-01,  -2.46541714e-01,\n",
       "          3.55897231e-01,  -5.13395838e-01,  -4.52045046e-02,\n",
       "          2.12674844e-01,   4.78170465e-01,  -4.96938964e-01,\n",
       "         -9.83421009e-02,   2.71229570e-01,   5.02987106e-01,\n",
       "         -8.44587797e-01,  -4.71540398e-01,  -8.86649545e-01,\n",
       "         -3.45946681e-01,   3.66275212e-01,  -8.27225395e-01,\n",
       "         -3.56237615e-02,  -6.00036901e-01,   5.30091035e-04,\n",
       "          3.60575560e-01,   7.67483185e-01,   7.94566994e-01,\n",
       "          9.44212514e-01,  -6.35637298e-01,  -2.29659624e-01,\n",
       "          2.19477468e-01,  -9.93226716e-01,  -5.75841422e-01,\n",
       "         -8.49432233e-01,   9.49630764e-01,  -5.40079074e-01,\n",
       "          4.47997121e-01,   2.73651359e-02,  -5.02473548e-01,\n",
       "         -2.80452622e-01,  -7.09080529e-01,  -9.24967912e-01,\n",
       "         -9.46692576e-01,  -1.35548546e-01,   2.58813320e-01,\n",
       "         -6.92616336e-01,   5.06478188e-02,  -1.21707364e-02,\n",
       "          4.96705213e-01,   6.91683478e-01,  -3.60499183e-01,\n",
       "          5.30815706e-01,  -9.19494073e-01,   9.44431033e-01,\n",
       "          9.87062384e-01,  -3.90290950e-01,  -8.49149940e-01,\n",
       "          5.73370892e-01,   1.30951761e-01,   5.67025023e-01,\n",
       "         -2.41052157e-01,  -9.84064998e-01,   6.52927370e-01,\n",
       "          6.52429828e-01,  -5.77458946e-01,  -6.27856801e-01,\n",
       "         -8.17120549e-01,   6.99533487e-01,  -6.06198963e-01,\n",
       "          6.21661287e-01,   4.49496247e-01,   8.03890750e-01,\n",
       "         -5.05434800e-01,  -4.54322835e-02,  -3.74197209e-01,\n",
       "          7.40632646e-01,  -3.30008941e-01,  -4.51150160e-02,\n",
       "         -2.53014712e-01,  -1.84984745e-01,  -6.66873096e-01,\n",
       "         -9.03632733e-01,  -6.94942679e-01,  -9.32791010e-01,\n",
       "          4.02814977e-01,  -3.69578128e-01,   1.68881875e-01,\n",
       "         -2.48198963e-01,  -3.20909474e-01,  -1.97472906e-01,\n",
       "          8.99067350e-01,  -3.10284321e-02,  -5.68772334e-01,\n",
       "          1.05657231e-01,  -1.03456736e-02,  -1.14807806e-02,\n",
       "         -1.03060939e-01,   3.49132817e-01,  -8.51822496e-02,\n",
       "          1.76678233e-02,   2.85024126e-01,   2.96907155e-01,\n",
       "          3.78841943e-01,  -4.55546632e-01,  -8.42670793e-01,\n",
       "         -6.36168307e-02,   9.68319383e-01,  -3.58805647e-02,\n",
       "          5.70181182e-01,   4.92576563e-01,  -9.60409180e-01,\n",
       "          4.45420765e-01,  -1.10185185e-01,  -3.61614948e-01,\n",
       "          5.49515626e-01,  -8.51610221e-01,  -3.18823302e-01]))"
      ]
     },
     "execution_count": 17,
     "metadata": {},
     "output_type": "execute_result"
    }
   ],
   "source": [
    "Z = ctf.tensor([n,n,n,n,n,n,n,n,n,n,n,n],sp=1)\n",
    "Z.fill_sp_random(-1.,1.,.00001)\n",
    "Z.read_local_nnz()"
   ]
  },
  {
   "cell_type": "code",
   "execution_count": 18,
   "metadata": {},
   "outputs": [
    {
     "name": "stdout",
     "output_type": "stream",
     "text": [
      "1\n",
      "[0 1 2 3] [ 0.00282648  0.02617537  0.54507062  0.00662197]\n"
     ]
    }
   ],
   "source": [
    "#create a random vector in a sparse representation\n",
    "v = ctf.tensor([n],sp=1)\n",
    "v.fill_sp_random(0.,1.,1.)\n",
    "\n",
    "#create an order 12 sparse tensor\n",
    "Z = ctf.tensor([n,n,n,n,n,n,n,n,n,n,n,n],sp=1)\n",
    "\n",
    "#fill tensor so that .001% of entries are nonzero\n",
    "Z.fill_sp_random(0.,1.,.00001)\n",
    "\n",
    "#set diagonal to zero\n",
    "Z.i(\"iiiiiiiiiiii\") << 1. \n",
    "\n",
    "str12 = \"1234567890ab\"\n",
    "for i in range(1,12)[::-1]:\n",
    "    #normalize tensor\n",
    "    Z.i(str12[0:i]).scl(1./ctf.sum(Z))\n",
    "    #create tensor with one less dimension\n",
    "    Z_new = ctf.tensor([n for j in range(i)],sp=1)\n",
    "    #contract tensor over its last mode with a vector\n",
    "    Z_new.i(str12[0:i]) << Z.i(str12[0:i+1])*v.i(str12[i])\n",
    "    #replace old tensor with lower-dimensional one\n",
    "    Z = Z_new\n",
    "\n",
    "#read the nonzeros from Z stored on this processor\n",
    "inds, vals = Z.read_local_nnz()\n",
    "print(Z.ndim)\n",
    "print(inds,vals)"
   ]
  },
  {
   "cell_type": "code",
   "execution_count": null,
   "metadata": {
    "collapsed": true
   },
   "outputs": [],
   "source": []
  },
  {
   "cell_type": "code",
   "execution_count": null,
   "metadata": {
    "collapsed": true
   },
   "outputs": [],
   "source": []
  }
 ],
 "metadata": {
  "kernelspec": {
   "display_name": "Python 3",
   "language": "python",
   "name": "python3"
  },
  "language_info": {
   "codemirror_mode": {
    "name": "ipython",
    "version": 3
   },
   "file_extension": ".py",
   "mimetype": "text/x-python",
   "name": "python",
   "nbconvert_exporter": "python",
   "pygments_lexer": "ipython3",
   "version": "3.5.2"
  }
 },
 "nbformat": 4,
 "nbformat_minor": 2
}
